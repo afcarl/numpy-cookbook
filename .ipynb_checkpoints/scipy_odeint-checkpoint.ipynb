{
 "metadata": {
  "name": "",
  "signature": "sha256:0e400e98523e8ccbf8e15f189d975fc34d10dcef34e67b30260df323cdf7413f"
 },
 "nbformat": 3,
 "nbformat_minor": 0,
 "worksheets": [
  {
   "cells": [
    {
     "cell_type": "markdown",
     "metadata": {},
     "source": [
      "\n",
      "## Integrating an ODE using `odeint`\n",
      "\n",
      "consider the toy ODE boundary value problem:\n",
      "\n",
      "$$\\frac{d^2\\Psi}{dx^2} + [100-\\beta]\\Psi = 0, x\\in[-1,1]$$\n",
      "\n",
      "where we have the boundary conditions of\n",
      "$$\\Psi(1) = 0\\\\\n",
      "\\Psi(-1) = 0$$\n",
      "\n",
      "\n",
      "I will adopt the notation $\\Psi_{XX}$ to denote the second derivative through the rest of this notebook.\n",
      "\n",
      "This is a second order system (second derivative), but we only know how to solve first order ODEs via Runge Kutta or such. Where 'we' = all mathematicians in the world. It is the one trick we know how to do on computers.\n",
      "\n",
      "Hence, let's reduce this to a system of first order equations, and then solve them.\n",
      "\n",
      "Define some new variables:\n",
      "\n",
      "$$y_1 = \\Psi \\\\\n",
      "y_2 = \\Psi_X$$\n",
      "\n",
      "Now take their derivative to get first order equations:\n",
      "\n",
      "$$\\begin{aligned}y'_1 &= y2\\\\ y'_2 &= \\Psi_{XX} \\end{aligned}$$\n",
      "\n",
      "Now substitute for $Y_{XX}$ using the original equation so that we have eliminated the second order terms from the equations:\n",
      "\n",
      "$$\\begin{aligned}y'_1 &= y2\\\\ y'_2 &=  [\\beta-100]\\Psi\\end{aligned}$$"
     ]
    },
    {
     "cell_type": "markdown",
     "metadata": {},
     "source": [
      "Now that is done, we can pass this system of first order equations into scipy's odeint function to solve these equations.\n",
      "\n",
      "Next problem: odeint just uses Runge Kutta (or a similar integrator) to iterate from the first value to the last value. The boundary conditions give our start point, but we have no way to specify the ending point.\n",
      "\n",
      "Let's look at an example:"
     ]
    },
    {
     "cell_type": "code",
     "collapsed": false,
     "input": [
      "%matplotlib inline\n",
      "import matplotlib.pyplot as plt\n",
      "import scipy.integrate as integrate\n",
      "import numpy as np\n",
      "\n",
      "# define range for x to take\n",
      "xs = np.linspace(-1, 1, 100)\n",
      "\n",
      "# initial condition for y'_1 and y'_2 to take. A complete guess\n",
      "system_eq = (0,1)\n",
      "# beta in the equation - a complete guess\n",
      "beta = 99\n",
      "\n",
      "# function used by odeint. Takes in the values for the system of equations, the current\n",
      "# time, and a list of optional values (in this case beta), and returns tuple for the\n",
      "# value of the systems of equations computed for this time step.\n",
      "def f(ys, t, beta):\n",
      "    y1 = ys[0]\n",
      "    y2 = ys[1]\n",
      "    return [y2, (beta-100)*y1]\n",
      "\n",
      "# perform integration\n",
      "z = integrate.odeint(f, system_eq, xs, args=(beta,))\n",
      "\n",
      "# plot the results\n",
      "plt.plot(xs, z[:,0])\n",
      "plt.ylabel('$\\Psi$')\n",
      "plt.xlabel('X')\n",
      "plt.show()"
     ],
     "language": "python",
     "metadata": {},
     "outputs": [
      {
       "metadata": {},
       "output_type": "display_data",
       "png": "[encoded data removed]",
       "text": [
        "<matplotlib.figure.Figure at 0x7f47deaa22b0>"
       ]
      }
     ],
     "prompt_number": 16
    },
    {
     "cell_type": "markdown",
     "metadata": {},
     "source": [
      "That's a fair amount of code to throw at you. The heart of the problem is that you have to write an evaluation function that takes a tuple of the current value of the system equations, time, and any additional arguments that you might need. You evaluate the system equations for that time step, and return them in a tuple. We do this in the function `f()`.\n",
      "\n",
      "    def f(ys, t, beta):\n",
      "        y1 = ys[0]\n",
      "        y2 = ys[1]\n",
      "        return [y2, (beta-100)*y1]\n",
      "        \n",
      "The rest of the code is mostly boilerplate. This gives us a range of values for x. I use 100 points just so we can plot the differential equation with a fair amount of fidelity; it does not affect the precision of the ode integration.\n",
      "\n",
      "    xs = np.linspace(-1, 1, 100)\n",
      "    \n",
      "We need to define the values for the system of equations. We have two equations, so we will need a tuple with two elements in it. We have no idea what the correct values are, so we fairly arbitrarily choose 0 and 1.\n",
      "\n",
      "    system_eq = (0,1)\n",
      "    \n",
      "Finally, we have to choose $\\beta$. Our equation is $$\\Psi_{XX} = [\\beta-100]\\Psi$$. This is one of the very few ODE's we can solve analytically, and we know the answer is $e^{(100-B)X}$. The power will be positive if $\\beta >100$, and that will never reach our second boundary condition of $\\Psi(1) = 0$. Therefore we set $\\beta$ to an arbitrary value less than 100.\n",
      "\n",
      "Finally, we integrate using the function `scipy.integrate.odeint`. The first parameter is the name of the function that performs the evaluation on the system of equations. The second parameter is the initial conditions for the system of equations. The third parameter is the range of values for $X$. Our function needs to take $\\beta$ as an input, so we use the optional `args` parameter to provide `beta` to the function.\n",
      "\n",
      "    z = integrate.odeint(f, system_eq, xs, args=(beta,))\n"
     ]
    },
    {
     "cell_type": "markdown",
     "metadata": {},
     "source": [
      "## Shooting Method to find second boundary condition\n",
      "\n",
      "So we have integrated our ODE, but we can see that we did not achieve the boundary condition $\\Psi(1)=0$. Instead, it looks like $\\Psi(1)\\approx 0.9$.\n",
      "\n",
      "All that is left is to vary beta to find the value for which $\\Psi(1)=0$. We will define an initial step size for $\\beta$\n",
      "\n",
      "    d_beta = 1\n",
      "    \n",
      "and then write a for loop that searches for the correct value. "
     ]
    },
    {
     "cell_type": "code",
     "collapsed": false,
     "input": [
      "d_beta = 1\n",
      "beta = 99\n",
      "tolerance = 1.e-4\n",
      "system_eq = (0,1)\n",
      "\n",
      "for j in range(1000):\n",
      "    z = integrate.odeint(f, system_eq, xs, args=(beta,))\n",
      "    x = z[-1,0]\n",
      "    if abs(x) < tolerance:\n",
      "        break;\n",
      "\n",
      "    if x > 0:\n",
      "        beta -= d_beta\n",
      "    else:\n",
      "        d_beta /= 2\n",
      "        beta += d_beta\n",
      "            \n",
      "# plot the results\n",
      "plt.plot(xs, z[:,0])\n",
      "plt.ylabel('$\\Psi$')\n",
      "plt.xlabel('X')\n",
      "plt.show()    "
     ],
     "language": "python",
     "metadata": {},
     "outputs": [
      {
       "metadata": {},
       "output_type": "display_data",
       "png": "[encoded data removed]",
       "text": [
        "<matplotlib.figure.Figure at 0x7f47e4051710>"
       ]
      }
     ],
     "prompt_number": 19
    }
   ],
   "metadata": {}
  }
 ]
}