{
 "metadata": {
  "name": "",
  "signature": "sha256:90abfa5d394ea7699a726776745be7a36fe9443f90841d1b387eb076aa6fc8e1"
 },
 "nbformat": 3,
 "nbformat_minor": 0,
 "worksheets": [
  {
   "cells": [
    {
     "cell_type": "markdown",
     "metadata": {},
     "source": [
      "# bvp_solver\n",
      "\n",
      "This is just the code from the bvp_solver tutorial. I did not write this code. \n",
      "\n",
      "https://pythonhosted.org/scikits.bvp_solver/tutorial.html\n"
     ]
    },
    {
     "cell_type": "code",
     "collapsed": false,
     "input": [
      "import scikits.bvp_solver as bvp\n",
      "import numpy as np"
     ],
     "language": "python",
     "metadata": {},
     "outputs": [
      {
       "output_type": "stream",
       "stream": "stderr",
       "text": [
        "/home/rlabbe/anaconda3/envs/python2/lib/python2.7/site-packages/setuptools-3.6-py2.7.egg/pkg_resources.py:1045: UserWarning: /home/rlabbe/.python-eggs is writable by group/others and vulnerable to attack when used with get_resource_filename. Consider a more secure location (set with .set_extraction_path or the PYTHON_EGG_CACHE environment variable).\n"
       ]
      }
     ],
     "prompt_number": 1
    },
    {
     "cell_type": "code",
     "collapsed": false,
     "input": [
      "T10 = 130\n",
      "T2Ahx = 70\n",
      "Ahx = 5\n",
      "U = 1.0"
     ],
     "language": "python",
     "metadata": {},
     "outputs": [],
     "prompt_number": 2
    },
    {
     "cell_type": "code",
     "collapsed": false,
     "input": [
      "def function(a, T):\n",
      "    q = (T[0] - T[1]) * U        # calculate the heat transfer from stream 1 to stream 2\n",
      "    return np.array([-q ,        # evaluate dT1/dA\n",
      "                     q/-2.0])    # evaluate dT2/dA"
     ],
     "language": "python",
     "metadata": {},
     "outputs": [],
     "prompt_number": 3
    },
    {
     "cell_type": "code",
     "collapsed": false,
     "input": [
      "def boundary_conditions(Ta,Tb):\n",
      "\n",
      "    return (np.array([Ta[0] - T10]),    #evaluate the difference between the temperature of the hot\n",
      "                                        #stream on theleft and the required boundary condition\n",
      "            np.array([Tb[1] - T2Ahx]))  #evaluate the difference between the temperature of the cold\n",
      "                                        #stream on the right and the required boundary condition"
     ],
     "language": "python",
     "metadata": {},
     "outputs": [],
     "prompt_number": 7
    },
    {
     "cell_type": "code",
     "collapsed": false,
     "input": [
      "problem = bvp.ProblemDefinition(num_ODE=2,\n",
      "                                num_parameters=0,\n",
      "                                num_left_boundary_conditions=1,\n",
      "                                boundary_points=(0, Ahx),\n",
      "                                function=function,\n",
      "                                boundary_conditions=boundary_conditions)"
     ],
     "language": "python",
     "metadata": {},
     "outputs": [],
     "prompt_number": 8
    },
    {
     "cell_type": "code",
     "collapsed": false,
     "input": [
      "solution = bvp.solve(problem,solution_guess=((T10 + T2Ahx)/2.0,\n",
      "                                             (T10 + T2Ahx)/2.0))"
     ],
     "language": "python",
     "metadata": {},
     "outputs": [],
     "prompt_number": 9
    },
    {
     "cell_type": "code",
     "collapsed": false,
     "input": [
      "A = np.linspace(0,Ahx, 45)\n",
      "T = solution(A)"
     ],
     "language": "python",
     "metadata": {},
     "outputs": [],
     "prompt_number": 12
    },
    {
     "cell_type": "code",
     "collapsed": false,
     "input": [
      "%matplotlib inline\n",
      "import pylab\n",
      "pylab.plot(A, T[0,:],'-')\n",
      "pylab.plot(A, T[1,:],'-')\n",
      "pylab.show()"
     ],
     "language": "python",
     "metadata": {},
     "outputs": [
      {
       "metadata": {},
       "output_type": "display_data",
       "png": "[encoded data removed]",
       "text": [
        "<matplotlib.figure.Figure at 0x7fbb677575d0>"
       ]
      }
     ],
     "prompt_number": 14
    },
    {
     "cell_type": "code",
     "collapsed": false,
     "input": [],
     "language": "python",
     "metadata": {},
     "outputs": []
    },
    {
     "cell_type": "code",
     "collapsed": false,
     "input": [],
     "language": "python",
     "metadata": {},
     "outputs": []
    }
   ],
   "metadata": {}
  }
 ]
}