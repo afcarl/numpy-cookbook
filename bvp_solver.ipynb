{
 "metadata": {
  "name": "",
  "signature": "sha256:9c8897797dc0992e0ef9d2497ff8e6767a1950351f0de5e1ebcb9113fd8f84ad"
 },
 "nbformat": 3,
 "nbformat_minor": 0,
 "worksheets": [
  {
   "cells": [
    {
     "cell_type": "markdown",
     "metadata": {},
     "source": [
      "# bvp_solver\n",
      "\n",
      "This is just the code from the bvp_solver tutorial. I did not write this code. \n",
      "\n",
      "https://pythonhosted.org/scikits.bvp_solver/tutorial.html\n"
     ]
    },
    {
     "cell_type": "code",
     "collapsed": false,
     "input": [
      "import scikits.bvp_solver as bvp\n",
      "import numpy as np"
     ],
     "language": "python",
     "metadata": {},
     "outputs": [],
     "prompt_number": 1
    },
    {
     "cell_type": "code",
     "collapsed": false,
     "input": [
      "T10 = 130\n",
      "T2Ahx = 70\n",
      "Ahx = 5\n",
      "U = 1.0"
     ],
     "language": "python",
     "metadata": {},
     "outputs": [],
     "prompt_number": 2
    },
    {
     "cell_type": "code",
     "collapsed": false,
     "input": [
      "def function(a, T):\n",
      "    q = (T[0] - T[1]) * U        # calculate the heat transfer from stream 1 to stream 2\n",
      "    return np.array([-q ,        # evaluate dT1/dA\n",
      "                     q/-2.0])    # evaluate dT2/dA"
     ],
     "language": "python",
     "metadata": {},
     "outputs": [],
     "prompt_number": 3
    },
    {
     "cell_type": "code",
     "collapsed": false,
     "input": [
      "def boundary_conditions(Ta,Tb):\n",
      "\n",
      "    return (np.array([Ta[0] - T10]),    #evaluate the difference between the temperature of the hot\n",
      "                                        #stream on theleft and the required boundary condition\n",
      "            np.array([Tb[1] - T2Ahx]))  #evaluate the difference between the temperature of the cold\n",
      "                                        #stream on the right and the required boundary condition"
     ],
     "language": "python",
     "metadata": {},
     "outputs": [],
     "prompt_number": 4
    },
    {
     "cell_type": "code",
     "collapsed": false,
     "input": [
      "problem = bvp.ProblemDefinition(num_ODE=2,\n",
      "                                num_parameters=0,\n",
      "                                num_left_boundary_conditions=1,\n",
      "                                boundary_points=(0, Ahx),\n",
      "                                function=function,\n",
      "                                boundary_conditions=boundary_conditions)"
     ],
     "language": "python",
     "metadata": {},
     "outputs": [],
     "prompt_number": 5
    },
    {
     "cell_type": "code",
     "collapsed": false,
     "input": [
      "solution = bvp.solve(problem,solution_guess=((T10 + T2Ahx)/2.0,\n",
      "                                             (T10 + T2Ahx)/2.0))"
     ],
     "language": "python",
     "metadata": {},
     "outputs": [],
     "prompt_number": 6
    },
    {
     "cell_type": "code",
     "collapsed": false,
     "input": [
      "A = np.linspace(0,Ahx, 45)\n",
      "T = solution(A)"
     ],
     "language": "python",
     "metadata": {},
     "outputs": [],
     "prompt_number": 7
    },
    {
     "cell_type": "code",
     "collapsed": false,
     "input": [
      "%matplotlib inline\n",
      "import matplotlib.pyplot as plt\n",
      "plt.plot(A, T[0,:],'-')\n",
      "plt.plot(A, T[1,:],'-')\n",
      "plt.show()"
     ],
     "language": "python",
     "metadata": {},
     "outputs": [
      {
       "metadata": {},
       "output_type": "display_data",
       "png": "[encoded data removed]",
       "text": [
        "<matplotlib.figure.Figure at 0x7fd0198d54d0>"
       ]
      }
     ],
     "prompt_number": 8
    },
    {
     "cell_type": "markdown",
     "metadata": {},
     "source": [
      "# Solve second order\n",
      "\n",
      "$$y'' + (100-\\beta)y + y^3 = 0$$\n",
      "\n",
      "Boundary values\n",
      "$$\\begin{aligned}y(1) &= 0 \\\\\n",
      "y(-1) &= 0 \\\\\n",
      "y'(-1) &= 1\\end{aligned}$$\n",
      "\n",
      "\n",
      "First order equations:\n",
      "\n",
      "$$\\begin{aligned} y_1&= y_2 \\\\\n",
      "y'_2 &= (\\beta - 100)y_1 - y^3_1\\end{aligned}$$"
     ]
    },
    {
     "cell_type": "code",
     "collapsed": false,
     "input": [
      "%matplotlib inline\n",
      "import scikits.bvp_solver as bvp\n",
      "import numpy as np\n",
      "import matplotlib.pyplot as plt\n",
      "\n",
      "def rhs_bvp (x, y):\n",
      "    return np.array([y[1], (y[2]-100)*y[0] - y[0]**3])\n",
      "\n",
      "def bc_bvp(y1, yr):\n",
      "    return np.array([y1[0], y1[1]-1, yr[0]])\n",
      "\n",
      "\n",
      "problem = bvp.ProblemDefinition(num_ODE=2,\n",
      "                                num_parameters=0,\n",
      "                                num_left_boundary_conditions=1,\n",
      "                                boundary_points=(0, 0, -1),\n",
      "                                function=rhs_bvp,\n",
      "                                boundary_conditions=bc_bvp)\n",
      "\n",
      "solution = bvp.solve(problem,solution_guess=(0., 0.), trace=2)"
     ],
     "language": "python",
     "metadata": {},
     "outputs": []
    },
    {
     "cell_type": "code",
     "collapsed": false,
     "input": [
      "%matplotlib inline\n",
      "import scikits.bvp_solver\n",
      "from numpy import zeros, array, linspace\n",
      "import pylab as pl\n",
      "\n",
      "# Definition of the problem parameters\n",
      "\n",
      "PeL = 16.0\n",
      "Ci0 = 1.0\n",
      "kt = 2.0\n",
      "\n",
      "# By converting the original problem into a set of 2 firts order\n",
      "# ODE's. Reaction rate is then Ri = -k*Ci0*(1-vi) the problem is defined as:\n",
      "\n",
      "dvdz = zeros(2)\n",
      "def systemode(z, v):\n",
      "    dvdz[0] = v[1]\n",
      "    dvdz[1] = PeL*(v[1]-kt*(1.0-v[0]))\n",
      "    return dvdz\n",
      "\n",
      "# Defining the BC on the left (z=0) and the right (z=1) side:\n",
      "\n",
      "BCleft =  zeros(1)\n",
      "BCright = zeros(1)\n",
      "def boundary_conditions(va, vb):\n",
      "    BCleft[0] = va[1] - PeL * va[0]\n",
      "    BCright[0] = vb[1]\n",
      "    return (BCleft), (BCright)\n",
      "\n",
      "# Problem definition: a set of 2 first order ODE with a BC on the left side.\n",
      "# Because the total length was scaled, the solution is reduced within an\n",
      "# interval of (0.0 , 1.0)\n",
      "\n",
      "problem = scikits.bvp_solver.ProblemDefinition(num_ODE = 2,\n",
      "                                      num_parameters = 0,\n",
      "                                      num_left_boundary_conditions = 1,\n",
      "                                      boundary_points = (0.0, 1.0),\n",
      "                                      function = systemode,\n",
      "                                      boundary_conditions = boundary_conditions)\n",
      "\n",
      "# By using conversion instead of concentration the solution is narrowed to\n",
      "# an interval where the minimum value is 0.0 and the maximum is 1.0.\n",
      "# Thus (0.0 , 1.0) is a sensible guess to initialize the problem\n",
      "\n",
      "guess = array ([0.0 , 1.0])\n",
      "\n",
      "# Once the problem and the BC's are being defined the solution of the problem\n",
      "# is done by calling\n",
      "\n",
      "solution = scikits.bvp_solver.solve(problem, solution_guess = guess, max_subintervals = 300)\n",
      "\n",
      "# Getting the solution from z =0 to z = 1.0\n",
      "\n",
      "z = linspace (0.0, 1.0, 100, endpoint = True )\n",
      "v = solution(z)\n",
      "\n",
      "# Comparison of the results\n",
      "\n",
      "print '~~~~~~~~~~~~~~~~~~~~~~~~~~~~~~~~~~~~~~~~~~~~~~~~~~~~~~~~~~'\n",
      "print 'The analytical solution of the problem at the outlet is: '\n",
      "print 'Final Conversion=  0.83605373297390484' \n",
      "print 'Final Concentration = 0.16394626702609519'\n",
      "print '~~~~~~~~~~~~~~~~~~~~~~~~~~~~~~~~~~~~~~~~~~~~~~~~~~~~~~~~~~'\n",
      "print 'The numerical solution of the problem at the outlet is: '\n",
      "print 'Final Conversion= ', v[0,99]\n",
      "print 'Final Concentration = ', 1.0- v[0,99]\n",
      "print '~~~~~~~~~~~~~~~~~~~~~~~~~~~~~~~~~~~~~~~~~~~~~~~~~~~~~~~~~~'\n",
      "\n",
      "# Plotting of the solution along z\n",
      "pl.figure()\n",
      "pl.subplot(1,2,1)\n",
      "pl.plot(z, v[1,:], 'b-', z, v[0,:], 'g-')\n",
      "pl.legend(('dv/dz[0]', 'dv/dz[1]'))\n",
      "pl.xlabel('Normalized Reactor Length')\n",
      "pl.ylabel('dv/dz')\n",
      "pl.title('System of ODEs for the Axial Dispersion Model')\n",
      "pl.grid('on')\n",
      "\n",
      "pl.subplot(1,2,2)\n",
      "pl.plot(z, v[0,:], 'g-')\n",
      "pl.xlabel('Normalized Reactor Length')\n",
      "pl.ylabel('Conversion of Reactant')\n",
      "pl.title('Conversion produced by the Axial Dispersion Model')\n",
      "pl.grid('on')\n",
      "pl.show()"
     ],
     "language": "python",
     "metadata": {},
     "outputs": [
      {
       "output_type": "stream",
       "stream": "stdout",
       "text": [
        "~~~~~~~~~~~~~~~~~~~~~~~~~~~~~~~~~~~~~~~~~~~~~~~~~~~~~~~~~~\n",
        "The analytical solution of the problem at the outlet is: \n",
        "Final Conversion=  0.83605373297390484\n",
        "Final Concentration = 0.16394626702609519\n",
        "~~~~~~~~~~~~~~~~~~~~~~~~~~~~~~~~~~~~~~~~~~~~~~~~~~~~~~~~~~\n",
        "The numerical solution of the problem at the outlet is: \n",
        "Final Conversion=  0.836053679294\n",
        "Final Concentration =  0.163946320706\n",
        "~~~~~~~~~~~~~~~~~~~~~~~~~~~~~~~~~~~~~~~~~~~~~~~~~~~~~~~~~~\n"
       ]
      },
      {
       "metadata": {},
       "output_type": "display_data",
       "png": "[encoded data removed]",
       "text": [
        "<matplotlib.figure.Figure at 0x7fd0081a4f90>"
       ]
      }
     ],
     "prompt_number": 9
    }
   ],
   "metadata": {}
  }
 ]
}